{
  "nbformat": 4,
  "nbformat_minor": 0,
  "metadata": {
    "colab": {
      "provenance": [],
      "authorship_tag": "ABX9TyNbec/6HRANqjFJC9bZ0QxL",
      "include_colab_link": true
    },
    "kernelspec": {
      "name": "python3",
      "display_name": "Python 3"
    },
    "language_info": {
      "name": "python"
    }
  },
  "cells": [
    {
      "cell_type": "markdown",
      "metadata": {
        "id": "view-in-github",
        "colab_type": "text"
      },
      "source": [
        "<a href=\"https://colab.research.google.com/github/langat-che/Time-Series-Fork/blob/master/Loading_data_py.ipynb\" target=\"_parent\"><img src=\"https://colab.research.google.com/assets/colab-badge.svg\" alt=\"Open In Colab\"/></a>"
      ]
    },
    {
      "cell_type": "code",
      "execution_count": null,
      "metadata": {
        "id": "gYSI_clqWa6m"
      },
      "outputs": [],
      "source": [
        "#Data loading\n",
        "import pandas as pd"
      ]
    },
    {
      "cell_type": "code",
      "source": [
        "data_csv = pd.read_csv('student_performance.csv')\n",
        "print(data_csv)"
      ],
      "metadata": {
        "colab": {
          "base_uri": "https://localhost:8080/"
        },
        "collapsed": true,
        "id": "DSNNxiOYWwV1",
        "outputId": "fcf1f929-2369-4cf1-8217-c404b244e30d"
      },
      "execution_count": null,
      "outputs": [
        {
          "output_type": "stream",
          "name": "stdout",
          "text": [
            "   StudentID      Name  Gender  AttendanceRate  StudyHoursPerWeek  \\\n",
            "0          1      John    Male              85                 15   \n",
            "1          2     Sarah  Female              90                 20   \n",
            "2          3      Alex    Male              78                 10   \n",
            "3          4   Michael    Male              92                 25   \n",
            "4          5      Emma  Female              88                 18   \n",
            "5          6    Olivia  Female              95                 30   \n",
            "6          7    Daniel    Male              70                  8   \n",
            "7          8    Sophia  Female              85                 17   \n",
            "8          9     James    Male              82                 12   \n",
            "9         10  Isabella  Female              91                 22   \n",
            "\n",
            "   PreviousGrade  ExtracurricularActivities ParentalSupport  FinalGrade  \n",
            "0             78                          1            High          80  \n",
            "1             85                          2          Medium          87  \n",
            "2             65                          0             Low          68  \n",
            "3             90                          3            High          92  \n",
            "4             82                          2          Medium          85  \n",
            "5             88                          1            High          90  \n",
            "6             60                          0             Low          62  \n",
            "7             77                          1          Medium          78  \n",
            "8             70                          2             Low          72  \n",
            "9             86                          3            High          88  \n"
          ]
        }
      ]
    },
    {
      "cell_type": "code",
      "source": [
        "data_json = pd.read_json('anscombe.json')\n",
        "print(data_json)"
      ],
      "metadata": {
        "colab": {
          "base_uri": "https://localhost:8080/"
        },
        "id": "AsGubWFrX1pw",
        "outputId": "ba0fa592-f9b7-4458-8079-e467fc696431",
        "collapsed": true
      },
      "execution_count": null,
      "outputs": [
        {
          "output_type": "stream",
          "name": "stdout",
          "text": [
            "   Series   X      Y\n",
            "0       I  10   8.04\n",
            "1       I   8   6.95\n",
            "2       I  13   7.58\n",
            "3       I   9   8.81\n",
            "4       I  11   8.33\n",
            "5       I  14   9.96\n",
            "6       I   6   7.24\n",
            "7       I   4   4.26\n",
            "8       I  12  10.84\n",
            "9       I   7   4.81\n",
            "10      I   5   5.68\n",
            "11     II  10   9.14\n",
            "12     II   8   8.14\n",
            "13     II  13   8.74\n",
            "14     II   9   8.77\n",
            "15     II  11   9.26\n",
            "16     II  14   8.10\n",
            "17     II   6   6.13\n",
            "18     II   4   3.10\n",
            "19     II  12   9.13\n",
            "20     II   7   7.26\n",
            "21     II   5   4.74\n",
            "22    III  10   7.46\n",
            "23    III   8   6.77\n",
            "24    III  13  12.74\n",
            "25    III   9   7.11\n",
            "26    III  11   7.81\n",
            "27    III  14   8.84\n",
            "28    III   6   6.08\n",
            "29    III   4   5.39\n",
            "30    III  12   8.15\n",
            "31    III   7   6.42\n",
            "32    III   5   5.73\n",
            "33     IV   8   6.58\n",
            "34     IV   8   5.76\n",
            "35     IV   8   7.71\n",
            "36     IV   8   8.84\n",
            "37     IV   8   8.47\n",
            "38     IV   8   7.04\n",
            "39     IV   8   5.25\n",
            "40     IV  19  12.50\n",
            "41     IV   8   5.56\n",
            "42     IV   8   7.91\n",
            "43     IV   8   6.89\n"
          ]
        }
      ]
    },
    {
      "cell_type": "code",
      "source": [],
      "metadata": {
        "id": "nu3K-ASfh241"
      },
      "execution_count": null,
      "outputs": []
    }
  ]
}